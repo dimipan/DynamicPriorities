{
 "cells": [
  {
   "cell_type": "code",
   "execution_count": null,
   "metadata": {},
   "outputs": [],
   "source": [
    "from environment_sar import SARrobotEnv\n",
    "from agents import QLearningAgentFlat, QLearningAgentMaxInfoRL\n",
    "from robot_utils import RunningParameters\n",
    "param = RunningParameters()"
   ]
  },
  {
   "cell_type": "code",
   "execution_count": null,
   "metadata": {},
   "outputs": [],
   "source": [
    "# Define experiments\n",
    "experiments = [\n",
    "    {\n",
    "        \"change_priorities\": {\n",
    "            1700: {'X': 2, 'Y': 0, 'Z': 1},  # Change from X-Y-Z to Y-Z-X\n",
    "            # 3500: {'X': 0, 'Y': 2, 'Z': 1},  # Change to Z-X-Y\n",
    "        }\n",
    "    }\n",
    "]"
   ]
  },
  {
   "cell_type": "code",
   "execution_count": null,
   "metadata": {},
   "outputs": [],
   "source": [
    "## 1) Q-learning-flat -- TESTING\n",
    "\n",
    "all_total_rewards_AGENT_flat = []  # List to store total rewards from each run\n",
    "all_total_steps_AGENT_flat = []  # List to store total rewards from each run\n",
    "all_metrics_AGENT_flat = [] # New list to store metrics from each run\n",
    "for exp in experiments:  # Loop through experiments\n",
    "    for _ in range(param.testing_runs):\n",
    "        env = SARrobotEnv(\n",
    "            grid_rows=4,\n",
    "            grid_cols=4,\n",
    "            info_number_needed=3,\n",
    "        )\n",
    "        EPISODES = param.EPISODES\n",
    "        ALPHA = param.ALPHA\n",
    "        GAMMA = param.GAMMA\n",
    "        EPSILON_MAX = param.EPSILON_MAX\n",
    "        EPSILON_MIN = param.EPSILON_MIN\n",
    "        DECAY_RATE = param.DECAY_RATE\n",
    "        agent_flat = QLearningAgentFlat(env, ALPHA, GAMMA, EPSILON_MAX, DECAY_RATE, EPSILON_MIN,\n",
    "                                        log_rewards_dir=\"curves/flat\", learned_policy_dir=\"policies/flat\", boost=False)\n",
    "        rewards_flat, steps_flat, metrics_flat = agent_flat.train(5000, change_priorities_at=exp[\"change_priorities\"])\n",
    "\n",
    "        all_total_rewards_AGENT_flat.append(rewards_flat)\n",
    "        all_total_steps_AGENT_flat.append(steps_flat)\n",
    "        all_metrics_AGENT_flat.append(metrics_flat)  # Store the metrics"
   ]
  },
  {
   "cell_type": "code",
   "execution_count": null,
   "metadata": {},
   "outputs": [],
   "source": [
    "## 1) Q-learning-flat -- TESTING -- with BOOST\n",
    "all_total_rewards_AGENT_flatB = []  # List to store total rewards from each run\n",
    "all_total_steps_AGENT_flatB = []  # List to store total rewards from each run\n",
    "all_metrics_AGENT_flatB = [] # New list to store metrics from each run\n",
    "for exp in experiments:  # Loop through experiments\n",
    "    for _ in range(param.testing_runs):\n",
    "        env = SARrobotEnv(\n",
    "            grid_rows=4,\n",
    "            grid_cols=4,\n",
    "            info_number_needed=3,\n",
    "        )\n",
    "        EPISODES = param.EPISODES\n",
    "        ALPHA = param.ALPHA\n",
    "        GAMMA = param.GAMMA\n",
    "        EPSILON_MAX = param.EPSILON_MAX\n",
    "        EPSILON_MIN = param.EPSILON_MIN\n",
    "        DECAY_RATE = param.DECAY_RATE\n",
    "        agent_flatB = QLearningAgentFlat(env, ALPHA, GAMMA, EPSILON_MAX, DECAY_RATE, EPSILON_MIN,\n",
    "                                        log_rewards_dir=\"curves/flatB\", learned_policy_dir=\"policies/flatB\", boost=True)\n",
    "        rewards_flatB, steps_flatB, metrics_flatB = agent_flatB.train(5000, change_priorities_at=exp[\"change_priorities\"])\n",
    "\n",
    "        all_total_rewards_AGENT_flatB.append(rewards_flatB)\n",
    "        all_total_steps_AGENT_flatB.append(steps_flatB)\n",
    "        all_metrics_AGENT_flatB.append(metrics_flatB)  # Store the metrics"
   ]
  },
  {
   "cell_type": "code",
   "execution_count": null,
   "metadata": {},
   "outputs": [],
   "source": [
    "all_total_rewards_AGENTmaxinfo = []  # List to store total rewards from each run\n",
    "all_total_steps_AGENTmaxinfo = []  # List to store total rewards from each run\n",
    "all_metrics_AGENTmaxinfo = [] # New list to store metrics from each run\n",
    "for exp in experiments:  # Loop through experiments\n",
    "    for _ in range(param.testing_runs):\n",
    "        env = SARrobotEnv(\n",
    "            grid_rows=4,\n",
    "            grid_cols=4,\n",
    "            info_number_needed=3,\n",
    "        )\n",
    "        EPISODES = param.EPISODES\n",
    "        ALPHA = param.ALPHA\n",
    "        GAMMA = param.GAMMA\n",
    "        EPSILON_MAX = param.EPSILON_MAX\n",
    "        EPSILON_MIN = param.EPSILON_MIN\n",
    "        DECAY_RATE = param.DECAY_RATE\n",
    "        agent_maxinfo = QLearningAgentMaxInfoRL(env, ALPHA, GAMMA, EPSILON_MAX, DECAY_RATE, EPSILON_MIN,\n",
    "                                        log_rewards_dir=\"curves/ADV\", learned_policy_dir=\"policies/ADV\", detect_shifts=False)\n",
    "        rewards_maxinfo, steps_maxinfo, metrics_maxinfo = agent_maxinfo.train(5000, change_priorities_at=exp[\"change_priorities\"])\n",
    "\n",
    "        all_total_rewards_AGENTmaxinfo.append(rewards_maxinfo)\n",
    "        all_total_steps_AGENTmaxinfo.append(steps_maxinfo)\n",
    "        all_metrics_AGENTmaxinfo.append(metrics_maxinfo)  # Store the metrics"
   ]
  }
 ],
 "metadata": {
  "kernelspec": {
   "display_name": "Python 3",
   "language": "python",
   "name": "python3"
  },
  "language_info": {
   "codemirror_mode": {
    "name": "ipython",
    "version": 3
   },
   "file_extension": ".py",
   "mimetype": "text/x-python",
   "name": "python",
   "nbconvert_exporter": "python",
   "pygments_lexer": "ipython3",
   "version": "3.10.12"
  }
 },
 "nbformat": 4,
 "nbformat_minor": 2
}
