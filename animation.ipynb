{
 "cells": [
  {
   "cell_type": "code",
   "execution_count": null,
   "id": "466288ed",
   "metadata": {},
   "outputs": [],
   "source": [
    "from evaluation import AgentEvaluationManager, AgentType\n",
    "\n",
    "# Initialize the evaluation manager\n",
    "manager = AgentEvaluationManager()\n",
    "\n",
    "# Set up environment parameters to match your training environment\n",
    "env_params = {\n",
    "    'grid_rows': 4,\n",
    "    'grid_cols': 4,\n",
    "    'info_number_needed': 3,\n",
    "    'sparse_reward': False,\n",
    "    'reward_shaping': False,\n",
    "    'attention': True,  # Set to match the training setting\n",
    "    'render_mode': 'human'  # Add this line to enable rendering\n",
    "}\n",
    "\n",
    "# Choose the agent type you want to evaluate\n",
    "agent_type = AgentType.HIERARCHICAL_ATTENTION  # Change to the appropriate agent type\n",
    "\n",
    "# Evaluate the agent\n",
    "# The episode number corresponds to the saved policy file number\n",
    "result = manager.evaluate_agent(\n",
    "    agent_type=agent_type,\n",
    "    episode=1000,  # Change to match your saved policy episode number\n",
    "    env_params=env_params\n",
    ")\n",
    "\n",
    "print(f\"Evaluation result: {result}\")"
   ]
  }
 ],
 "metadata": {
  "kernelspec": {
   "display_name": "base",
   "language": "python",
   "name": "python3"
  },
  "language_info": {
   "codemirror_mode": {
    "name": "ipython",
    "version": 3
   },
   "file_extension": ".py",
   "mimetype": "text/x-python",
   "name": "python",
   "nbconvert_exporter": "python",
   "pygments_lexer": "ipython3",
   "version": "3.12.7"
  }
 },
 "nbformat": 4,
 "nbformat_minor": 5
}
